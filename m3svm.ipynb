{
 "cells": [
  {
   "cell_type": "code",
   "execution_count": 38,
   "id": "4e43e77c",
   "metadata": {},
   "outputs": [],
   "source": [
    "import os\n",
    "import pandas as pd\n",
    "import numpy as np\n",
    "import joblib\n",
    "from sklearn.model_selection import train_test_split\n",
    "from sklearn.preprocessing import LabelEncoder\n",
    "from sklearn.svm import SVC\n",
    "from sklearn.metrics import classification_report, confusion_matrix, ConfusionMatrixDisplay\n",
    "import matplotlib.pyplot as plt\n",
    "import json\n"
   ]
  },
  {
   "cell_type": "code",
   "execution_count": 39,
   "id": "489a688e",
   "metadata": {},
   "outputs": [
    {
     "name": "stdout",
     "output_type": "stream",
     "text": [
      "Loaded 75263 rows from 10 files.\n"
     ]
    }
   ],
   "source": [
    "# List all CSV files in the GestureDatasetMax directory\n",
    "csv_files = [os.path.join('GestureDatasetBigger', f) for f in os.listdir('GestureDatasetBigger') if f.endswith('_gestures.csv')]\n",
    "\n",
    "# Load and combine all data\n",
    "all_data = pd.concat(\n",
    "    [pd.read_csv(file) for file in csv_files],\n",
    "    ignore_index=True\n",
    ")\n",
    "print(f\"Loaded {len(all_data)} rows from {len(csv_files)} files.\")"
   ]
  },
  {
   "cell_type": "code",
   "execution_count": 40,
   "id": "09cfe6c9",
   "metadata": {},
   "outputs": [
    {
     "name": "stdout",
     "output_type": "stream",
     "text": [
      "Feature matrix shape: (753, 200)\n",
      "Labels shape: (753,)\n"
     ]
    }
   ],
   "source": [
    "# Feature extraction function (as in notebook)\n",
    "def extract_features(df, max_sequence_length=100):\n",
    "    features = []\n",
    "    labels = []\n",
    "    for gesture_id, group in df.groupby('gestureId'):\n",
    "        x_coords = group['x'].values\n",
    "        y_coords = group['y'].values\n",
    "        x_range = x_coords.max() - x_coords.min()\n",
    "        y_range = y_coords.max() - y_coords.min()\n",
    "        if x_range == 0:\n",
    "            x_coords = np.zeros_like(x_coords)\n",
    "        else:\n",
    "            x_coords = (x_coords - x_coords.min()) / x_range\n",
    "        if y_range == 0:\n",
    "            y_coords = np.zeros_like(y_coords)\n",
    "        else:\n",
    "            y_coords = (y_coords - y_coords.min()) / y_range\n",
    "        sequence = np.column_stack((x_coords, y_coords))\n",
    "        if len(sequence) < max_sequence_length:\n",
    "            padding = np.zeros((max_sequence_length - len(sequence), 2))\n",
    "            sequence = np.vstack((sequence, padding))\n",
    "        else:\n",
    "            sequence = sequence[:max_sequence_length]\n",
    "        features.append(sequence.flatten())\n",
    "        labels.append(group['shape'].iloc[0])\n",
    "    return np.array(features), np.array(labels)\n",
    "\n",
    "X, y = extract_features(all_data)\n",
    "print(f'Feature matrix shape: {X.shape}')\n",
    "print(f'Labels shape: {y.shape}')\n"
   ]
  },
  {
   "cell_type": "code",
   "execution_count": 41,
   "id": "967187cd",
   "metadata": {},
   "outputs": [
    {
     "name": "stdout",
     "output_type": "stream",
     "text": [
      "Train set: (602, 200), Test set: (151, 200)\n",
      "Classification Report:\n",
      "              precision    recall  f1-score   support\n",
      "\n",
      "      circle       0.90      0.92      0.91        50\n",
      "      square       0.88      0.92      0.90        50\n",
      "    triangle       0.98      0.92      0.95        51\n",
      "\n",
      "    accuracy                           0.92       151\n",
      "   macro avg       0.92      0.92      0.92       151\n",
      "weighted avg       0.92      0.92      0.92       151\n",
      "\n"
     ]
    },
    {
     "data": {
      "text/plain": [
       "['svm_label_encoder_max.pkl']"
      ]
     },
     "execution_count": 41,
     "metadata": {},
     "output_type": "execute_result"
    }
   ],
   "source": [
    "# Encode labels and split data\n",
    "label_encoder = LabelEncoder()\n",
    "y_encoded = label_encoder.fit_transform(y)\n",
    "with open('svm_label_encoder_classes_max.json', 'w') as f:\n",
    "    json.dump(label_encoder.classes_.tolist(), f)\n",
    "X_train, X_test, y_train, y_test = train_test_split(X, y_encoded, test_size=0.2, random_state=42, stratify=y_encoded)\n",
    "print(f'Train set: {X_train.shape}, Test set: {X_test.shape}')\n",
    "\n",
    "# Train SVM\n",
    "svm_model = SVC(kernel='rbf', gamma='auto')\n",
    "svm_model.fit(X_train, y_train)\n",
    "\n",
    "# Evaluate\n",
    "y_pred = svm_model.predict(X_test)\n",
    "print(\"Classification Report:\")\n",
    "print(classification_report(y_test, y_pred, target_names=label_encoder.classes_))\n",
    "\n",
    "# Save model and label encoder\n",
    "joblib.dump(svm_model, 'gesture_svm_model_max.joblib')\n",
    "joblib.dump(label_encoder, 'svm_label_encoder_max.pkl')"
   ]
  },
  {
   "cell_type": "code",
   "execution_count": null,
   "id": "1c808f6a",
   "metadata": {},
   "outputs": [],
   "source": []
  }
 ],
 "metadata": {
  "language_info": {
   "name": "python"
  }
 },
 "nbformat": 4,
 "nbformat_minor": 5
}
